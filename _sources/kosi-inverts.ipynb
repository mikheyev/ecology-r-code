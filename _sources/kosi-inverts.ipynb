{
 "cells": [
  {
   "cell_type": "markdown",
   "id": "cb6206d2",
   "metadata": {},
   "source": [
    "# Describing communities using summary statistics\n",
    "\n",
    "Here we will take field data from invertebrates collected during the 2022 Kosciuszko National Park field trip and compute descriptive statistics to summarise the populations"
   ]
  },
  {
   "cell_type": "code",
   "execution_count": 1,
   "id": "d7b8b63b",
   "metadata": {
    "tags": [
     "remove-output"
    ]
   },
   "outputs": [
    {
     "name": "stderr",
     "output_type": "stream",
     "text": [
      "── \u001b[1mAttaching packages\u001b[22m ───────────────────────────────────────────────────────────────────────────────────────────────────────────────────────────────────────────────────────────────────────────────────────────────────────────────────────────────────── tidyverse 1.3.1 ──\n",
      "\n"
     ]
    },
    {
     "name": "stderr",
     "output_type": "stream",
     "text": [
      "\u001b[32m✔\u001b[39m \u001b[34mggplot2\u001b[39m 3.3.5     \u001b[32m✔\u001b[39m \u001b[34mpurrr  \u001b[39m 0.3.4\n",
      "\u001b[32m✔\u001b[39m \u001b[34mtibble \u001b[39m 3.1.6     \u001b[32m✔\u001b[39m \u001b[34mdplyr  \u001b[39m 1.0.7\n",
      "\u001b[32m✔\u001b[39m \u001b[34mtidyr  \u001b[39m 1.2.0     \u001b[32m✔\u001b[39m \u001b[34mstringr\u001b[39m 1.4.0\n",
      "\u001b[32m✔\u001b[39m \u001b[34mreadr  \u001b[39m 2.1.2     \u001b[32m✔\u001b[39m \u001b[34mforcats\u001b[39m 0.5.1\n",
      "\n"
     ]
    },
    {
     "name": "stderr",
     "output_type": "stream",
     "text": [
      "Warning message:\n",
      "“package ‘tidyr’ was built under R version 4.0.5”\n"
     ]
    },
    {
     "name": "stderr",
     "output_type": "stream",
     "text": [
      "Warning message:\n",
      "“package ‘readr’ was built under R version 4.0.5”\n"
     ]
    },
    {
     "name": "stderr",
     "output_type": "stream",
     "text": [
      "── \u001b[1mConflicts\u001b[22m ──────────────────────────────────────────────────────────────────────────────────────────────────────────────────────────────────────────────────────────────────────────────────────────────────────────────────────────────────────── tidyverse_conflicts() ──\n",
      "\u001b[31m✖\u001b[39m \u001b[34mdplyr\u001b[39m::\u001b[32mfilter()\u001b[39m masks \u001b[34mstats\u001b[39m::filter()\n",
      "\u001b[31m✖\u001b[39m \u001b[34mdplyr\u001b[39m::\u001b[32mlag()\u001b[39m    masks \u001b[34mstats\u001b[39m::lag()\n",
      "\n"
     ]
    }
   ],
   "source": [
    "library(tidyverse)"
   ]
  },
  {
   "cell_type": "code",
   "execution_count": 2,
   "id": "960729d7",
   "metadata": {},
   "outputs": [
    {
     "name": "stderr",
     "output_type": "stream",
     "text": [
      "\u001b[1mRows: \u001b[22m\u001b[34m97\u001b[39m \u001b[1mColumns: \u001b[22m\u001b[34m15\u001b[39m\n"
     ]
    },
    {
     "name": "stderr",
     "output_type": "stream",
     "text": [
      "\u001b[36m──\u001b[39m \u001b[1mColumn specification\u001b[22m \u001b[36m──────────────────────────────────────────────────────────────────────────────────────────────────────────────────────────────────────────────────────────────────────────────────────────────────────────────────────────────────────────────────────\u001b[39m\n",
      "\u001b[1mDelimiter:\u001b[22m \",\"\n",
      "\u001b[31mchr\u001b[39m (6): Group, Taxa, Kingdom, Phylum, Subphylum or Order, How the organism ...\n",
      "\u001b[32mdbl\u001b[39m (9): Elevation, Mean flow rate (m/s), Mean temperature, Pack 1, Pack 2, ...\n"
     ]
    },
    {
     "name": "stderr",
     "output_type": "stream",
     "text": [
      "\n",
      "\u001b[36mℹ\u001b[39m Use \u001b[30m\u001b[47m\u001b[30m\u001b[47m`spec()`\u001b[47m\u001b[30m\u001b[49m\u001b[39m to retrieve the full column specification for this data.\n",
      "\u001b[36mℹ\u001b[39m Specify the column types or set \u001b[30m\u001b[47m\u001b[30m\u001b[47m`show_col_types = FALSE`\u001b[47m\u001b[30m\u001b[49m\u001b[39m to quiet this message.\n"
     ]
    }
   ],
   "source": [
    "inverts <- read_csv(\"https://raw.githubusercontent.com/mikheyev/ecology-r-code/main/data/inverts.csv\")"
   ]
  },
  {
   "cell_type": "markdown",
   "id": "4642aeed",
   "metadata": {},
   "source": [
    "## Define functions for diversity and evenness\n",
    "\n",
    "[Menhinick richness index](https://search.r-project.org/CRAN/refmans/abdiv/html/menhinick.html) measures diversity without considering relative species abundance.It's relatively crude, but simple to compute."
   ]
  },
  {
   "cell_type": "code",
   "execution_count": 3,
   "id": "beb5eabd",
   "metadata": {},
   "outputs": [],
   "source": [
    "D <- function(n) {\n",
    "    if (sum(n) > 0)\n",
    "        sum(n > 0)/sqrt(sum(n))\n",
    "    else\n",
    "        0\n",
    "}"
   ]
  },
  {
   "cell_type": "markdown",
   "id": "5005ad4c",
   "metadata": {},
   "source": [
    "[Shannon's index](https://en.wikipedia.org/wiki/Diversity_index#Shannon_index) combines species abundance to provide incorporate how abundance affects diversity."
   ]
  },
  {
   "cell_type": "code",
   "execution_count": 4,
   "id": "ff2da481",
   "metadata": {},
   "outputs": [],
   "source": [
    "H <- function(n) {\n",
    "    partH <- 0\n",
    "    for (i in n)\n",
    "        if (i > 0)\n",
    "            partH = partH - (i / sum(n)) * log(i / sum(n))\n",
    "    return(partH)\n",
    "}"
   ]
  },
  {
   "cell_type": "markdown",
   "id": "0740e6a5",
   "metadata": {},
   "source": [
    "[Evenness](https://en.wikipedia.org/wiki/Species_evenness) is a measure of how similar the abundances of different species are in the community, and it is derived from dividing Shannon's index by the natural log of the species count, which actually corresponds to the maximum possible H, for a given number of species."
   ]
  },
  {
   "cell_type": "code",
   "execution_count": 5,
   "id": "690ed278",
   "metadata": {},
   "outputs": [],
   "source": [
    "E <- function(n) {\n",
    "    H(n)/log(sum(n > 0))\n",
    "}"
   ]
  },
  {
   "cell_type": "markdown",
   "id": "ca53e4ca",
   "metadata": {},
   "source": [
    "## reshape data to make it easier to analyze\n",
    "\n",
    "The following commands reshape the data from the easy-to-enter-by-humans 'wide' format to the `long` format that R likes. The `starts_with` command says that the variables we need to reshape start with \"Pack\", which is the leaf pack that is our unit of replication."
   ]
  },
  {
   "cell_type": "code",
   "execution_count": 6,
   "id": "2b444fcc",
   "metadata": {},
   "outputs": [
    {
     "data": {
      "text/html": [
       "<table class=\"dataframe\">\n",
       "<caption>A tibble: 6 × 15</caption>\n",
       "<thead>\n",
       "\t<tr><th scope=col>Group</th><th scope=col>Elevation</th><th scope=col>Mean flow rate (m/s)</th><th scope=col>Mean temperature</th><th scope=col>Taxa</th><th scope=col>Kingdom</th><th scope=col>Phylum</th><th scope=col>Subphylum or Order</th><th scope=col>How the organism feeds</th><th scope=col>Pack 1</th><th scope=col>Pack 2</th><th scope=col>Pack 3</th><th scope=col>Pack 4</th><th scope=col>Pack 5</th><th scope=col>Pack 6</th></tr>\n",
       "\t<tr><th scope=col>&lt;chr&gt;</th><th scope=col>&lt;dbl&gt;</th><th scope=col>&lt;dbl&gt;</th><th scope=col>&lt;dbl&gt;</th><th scope=col>&lt;chr&gt;</th><th scope=col>&lt;chr&gt;</th><th scope=col>&lt;chr&gt;</th><th scope=col>&lt;chr&gt;</th><th scope=col>&lt;chr&gt;</th><th scope=col>&lt;dbl&gt;</th><th scope=col>&lt;dbl&gt;</th><th scope=col>&lt;dbl&gt;</th><th scope=col>&lt;dbl&gt;</th><th scope=col>&lt;dbl&gt;</th><th scope=col>&lt;dbl&gt;</th></tr>\n",
       "</thead>\n",
       "<tbody>\n",
       "\t<tr><td>Rosie</td><td>1610</td><td>0.2343445</td><td>10.632</td><td>Stoneflies (Order Plecoptera)              </td><td>Animalia</td><td>Arthropoda</td><td>Hexapoda</td><td>Mostly Predators </td><td>15</td><td>0</td><td>4</td><td>3</td><td>NA</td><td>2</td></tr>\n",
       "\t<tr><td>Rosie</td><td>1610</td><td>0.2343445</td><td>10.632</td><td>Dragonflies and Damselflies (Order Odonata)</td><td>NA      </td><td>NA        </td><td>NA      </td><td>Mostly Predators </td><td> 0</td><td>0</td><td>4</td><td>3</td><td>NA</td><td>2</td></tr>\n",
       "\t<tr><td>Rosie</td><td>1610</td><td>0.2343445</td><td>10.632</td><td>Mayflies (Order Ephemeroptera)             </td><td>NA      </td><td>NA        </td><td>NA      </td><td>Mostly herbivores</td><td> 2</td><td>0</td><td>6</td><td>1</td><td>NA</td><td>0</td></tr>\n",
       "\t<tr><td>Rosie</td><td>1610</td><td>0.2343445</td><td>10.632</td><td>Water Beetles (Order Coleoptera)           </td><td>NA      </td><td>NA        </td><td>NA      </td><td>NA               </td><td> 0</td><td>0</td><td>0</td><td>0</td><td>NA</td><td>0</td></tr>\n",
       "\t<tr><td>Rosie</td><td>1610</td><td>0.2343445</td><td>10.632</td><td>True Flies (Order Diptera)                 </td><td>NA      </td><td>NA        </td><td>NA      </td><td>NA               </td><td> 0</td><td>0</td><td>1</td><td>1</td><td>NA</td><td>0</td></tr>\n",
       "\t<tr><td>Rosie</td><td>1610</td><td>0.2343445</td><td>10.632</td><td>Isopod                                     </td><td>NA      </td><td>NA        </td><td>NA      </td><td>NA               </td><td> 1</td><td>0</td><td>0</td><td>0</td><td>NA</td><td>0</td></tr>\n",
       "</tbody>\n",
       "</table>\n"
      ],
      "text/latex": [
       "A tibble: 6 × 15\n",
       "\\begin{tabular}{lllllllllllllll}\n",
       " Group & Elevation & Mean flow rate (m/s) & Mean temperature & Taxa & Kingdom & Phylum & Subphylum or Order & How the organism feeds & Pack 1 & Pack 2 & Pack 3 & Pack 4 & Pack 5 & Pack 6\\\\\n",
       " <chr> & <dbl> & <dbl> & <dbl> & <chr> & <chr> & <chr> & <chr> & <chr> & <dbl> & <dbl> & <dbl> & <dbl> & <dbl> & <dbl>\\\\\n",
       "\\hline\n",
       "\t Rosie & 1610 & 0.2343445 & 10.632 & Stoneflies (Order Plecoptera)               & Animalia & Arthropoda & Hexapoda & Mostly Predators  & 15 & 0 & 4 & 3 & NA & 2\\\\\n",
       "\t Rosie & 1610 & 0.2343445 & 10.632 & Dragonflies and Damselflies (Order Odonata) & NA       & NA         & NA       & Mostly Predators  &  0 & 0 & 4 & 3 & NA & 2\\\\\n",
       "\t Rosie & 1610 & 0.2343445 & 10.632 & Mayflies (Order Ephemeroptera)              & NA       & NA         & NA       & Mostly herbivores &  2 & 0 & 6 & 1 & NA & 0\\\\\n",
       "\t Rosie & 1610 & 0.2343445 & 10.632 & Water Beetles (Order Coleoptera)            & NA       & NA         & NA       & NA                &  0 & 0 & 0 & 0 & NA & 0\\\\\n",
       "\t Rosie & 1610 & 0.2343445 & 10.632 & True Flies (Order Diptera)                  & NA       & NA         & NA       & NA                &  0 & 0 & 1 & 1 & NA & 0\\\\\n",
       "\t Rosie & 1610 & 0.2343445 & 10.632 & Isopod                                      & NA       & NA         & NA       & NA                &  1 & 0 & 0 & 0 & NA & 0\\\\\n",
       "\\end{tabular}\n"
      ],
      "text/markdown": [
       "\n",
       "A tibble: 6 × 15\n",
       "\n",
       "| Group &lt;chr&gt; | Elevation &lt;dbl&gt; | Mean flow rate (m/s) &lt;dbl&gt; | Mean temperature &lt;dbl&gt; | Taxa &lt;chr&gt; | Kingdom &lt;chr&gt; | Phylum &lt;chr&gt; | Subphylum or Order &lt;chr&gt; | How the organism feeds &lt;chr&gt; | Pack 1 &lt;dbl&gt; | Pack 2 &lt;dbl&gt; | Pack 3 &lt;dbl&gt; | Pack 4 &lt;dbl&gt; | Pack 5 &lt;dbl&gt; | Pack 6 &lt;dbl&gt; |\n",
       "|---|---|---|---|---|---|---|---|---|---|---|---|---|---|---|\n",
       "| Rosie | 1610 | 0.2343445 | 10.632 | Stoneflies (Order Plecoptera)               | Animalia | Arthropoda | Hexapoda | Mostly Predators  | 15 | 0 | 4 | 3 | NA | 2 |\n",
       "| Rosie | 1610 | 0.2343445 | 10.632 | Dragonflies and Damselflies (Order Odonata) | NA       | NA         | NA       | Mostly Predators  |  0 | 0 | 4 | 3 | NA | 2 |\n",
       "| Rosie | 1610 | 0.2343445 | 10.632 | Mayflies (Order Ephemeroptera)              | NA       | NA         | NA       | Mostly herbivores |  2 | 0 | 6 | 1 | NA | 0 |\n",
       "| Rosie | 1610 | 0.2343445 | 10.632 | Water Beetles (Order Coleoptera)            | NA       | NA         | NA       | NA                |  0 | 0 | 0 | 0 | NA | 0 |\n",
       "| Rosie | 1610 | 0.2343445 | 10.632 | True Flies (Order Diptera)                  | NA       | NA         | NA       | NA                |  0 | 0 | 1 | 1 | NA | 0 |\n",
       "| Rosie | 1610 | 0.2343445 | 10.632 | Isopod                                      | NA       | NA         | NA       | NA                |  1 | 0 | 0 | 0 | NA | 0 |\n",
       "\n"
      ],
      "text/plain": [
       "  Group Elevation Mean flow rate (m/s) Mean temperature\n",
       "1 Rosie 1610      0.2343445            10.632          \n",
       "2 Rosie 1610      0.2343445            10.632          \n",
       "3 Rosie 1610      0.2343445            10.632          \n",
       "4 Rosie 1610      0.2343445            10.632          \n",
       "5 Rosie 1610      0.2343445            10.632          \n",
       "6 Rosie 1610      0.2343445            10.632          \n",
       "  Taxa                                        Kingdom  Phylum    \n",
       "1 Stoneflies (Order Plecoptera)               Animalia Arthropoda\n",
       "2 Dragonflies and Damselflies (Order Odonata) NA       NA        \n",
       "3 Mayflies (Order Ephemeroptera)              NA       NA        \n",
       "4 Water Beetles (Order Coleoptera)            NA       NA        \n",
       "5 True Flies (Order Diptera)                  NA       NA        \n",
       "6 Isopod                                      NA       NA        \n",
       "  Subphylum or Order How the organism feeds Pack 1 Pack 2 Pack 3 Pack 4 Pack 5\n",
       "1 Hexapoda           Mostly Predators       15     0      4      3      NA    \n",
       "2 NA                 Mostly Predators        0     0      4      3      NA    \n",
       "3 NA                 Mostly herbivores       2     0      6      1      NA    \n",
       "4 NA                 NA                      0     0      0      0      NA    \n",
       "5 NA                 NA                      0     0      1      1      NA    \n",
       "6 NA                 NA                      1     0      0      0      NA    \n",
       "  Pack 6\n",
       "1 2     \n",
       "2 2     \n",
       "3 0     \n",
       "4 0     \n",
       "5 0     \n",
       "6 0     "
      ]
     },
     "metadata": {},
     "output_type": "display_data"
    },
    {
     "data": {
      "text/html": [
       "<table class=\"dataframe\">\n",
       "<caption>A tibble: 6 × 11</caption>\n",
       "<thead>\n",
       "\t<tr><th scope=col>Group</th><th scope=col>Elevation</th><th scope=col>Mean flow rate (m/s)</th><th scope=col>Mean temperature</th><th scope=col>Taxa</th><th scope=col>Kingdom</th><th scope=col>Phylum</th><th scope=col>Subphylum or Order</th><th scope=col>How the organism feeds</th><th scope=col>pack</th><th scope=col>count</th></tr>\n",
       "\t<tr><th scope=col>&lt;chr&gt;</th><th scope=col>&lt;dbl&gt;</th><th scope=col>&lt;dbl&gt;</th><th scope=col>&lt;dbl&gt;</th><th scope=col>&lt;chr&gt;</th><th scope=col>&lt;chr&gt;</th><th scope=col>&lt;chr&gt;</th><th scope=col>&lt;chr&gt;</th><th scope=col>&lt;chr&gt;</th><th scope=col>&lt;chr&gt;</th><th scope=col>&lt;dbl&gt;</th></tr>\n",
       "</thead>\n",
       "<tbody>\n",
       "\t<tr><td>Rosie</td><td>1610</td><td>0.2343445</td><td>10.632</td><td>Stoneflies (Order Plecoptera)</td><td>Animalia</td><td>Arthropoda</td><td>Hexapoda</td><td>Mostly Predators</td><td>Pack 1</td><td>15</td></tr>\n",
       "\t<tr><td>Rosie</td><td>1610</td><td>0.2343445</td><td>10.632</td><td>Stoneflies (Order Plecoptera)</td><td>Animalia</td><td>Arthropoda</td><td>Hexapoda</td><td>Mostly Predators</td><td>Pack 2</td><td> 0</td></tr>\n",
       "\t<tr><td>Rosie</td><td>1610</td><td>0.2343445</td><td>10.632</td><td>Stoneflies (Order Plecoptera)</td><td>Animalia</td><td>Arthropoda</td><td>Hexapoda</td><td>Mostly Predators</td><td>Pack 3</td><td> 4</td></tr>\n",
       "\t<tr><td>Rosie</td><td>1610</td><td>0.2343445</td><td>10.632</td><td>Stoneflies (Order Plecoptera)</td><td>Animalia</td><td>Arthropoda</td><td>Hexapoda</td><td>Mostly Predators</td><td>Pack 4</td><td> 3</td></tr>\n",
       "\t<tr><td>Rosie</td><td>1610</td><td>0.2343445</td><td>10.632</td><td>Stoneflies (Order Plecoptera)</td><td>Animalia</td><td>Arthropoda</td><td>Hexapoda</td><td>Mostly Predators</td><td>Pack 5</td><td>NA</td></tr>\n",
       "\t<tr><td>Rosie</td><td>1610</td><td>0.2343445</td><td>10.632</td><td>Stoneflies (Order Plecoptera)</td><td>Animalia</td><td>Arthropoda</td><td>Hexapoda</td><td>Mostly Predators</td><td>Pack 6</td><td> 2</td></tr>\n",
       "</tbody>\n",
       "</table>\n"
      ],
      "text/latex": [
       "A tibble: 6 × 11\n",
       "\\begin{tabular}{lllllllllll}\n",
       " Group & Elevation & Mean flow rate (m/s) & Mean temperature & Taxa & Kingdom & Phylum & Subphylum or Order & How the organism feeds & pack & count\\\\\n",
       " <chr> & <dbl> & <dbl> & <dbl> & <chr> & <chr> & <chr> & <chr> & <chr> & <chr> & <dbl>\\\\\n",
       "\\hline\n",
       "\t Rosie & 1610 & 0.2343445 & 10.632 & Stoneflies (Order Plecoptera) & Animalia & Arthropoda & Hexapoda & Mostly Predators & Pack 1 & 15\\\\\n",
       "\t Rosie & 1610 & 0.2343445 & 10.632 & Stoneflies (Order Plecoptera) & Animalia & Arthropoda & Hexapoda & Mostly Predators & Pack 2 &  0\\\\\n",
       "\t Rosie & 1610 & 0.2343445 & 10.632 & Stoneflies (Order Plecoptera) & Animalia & Arthropoda & Hexapoda & Mostly Predators & Pack 3 &  4\\\\\n",
       "\t Rosie & 1610 & 0.2343445 & 10.632 & Stoneflies (Order Plecoptera) & Animalia & Arthropoda & Hexapoda & Mostly Predators & Pack 4 &  3\\\\\n",
       "\t Rosie & 1610 & 0.2343445 & 10.632 & Stoneflies (Order Plecoptera) & Animalia & Arthropoda & Hexapoda & Mostly Predators & Pack 5 & NA\\\\\n",
       "\t Rosie & 1610 & 0.2343445 & 10.632 & Stoneflies (Order Plecoptera) & Animalia & Arthropoda & Hexapoda & Mostly Predators & Pack 6 &  2\\\\\n",
       "\\end{tabular}\n"
      ],
      "text/markdown": [
       "\n",
       "A tibble: 6 × 11\n",
       "\n",
       "| Group &lt;chr&gt; | Elevation &lt;dbl&gt; | Mean flow rate (m/s) &lt;dbl&gt; | Mean temperature &lt;dbl&gt; | Taxa &lt;chr&gt; | Kingdom &lt;chr&gt; | Phylum &lt;chr&gt; | Subphylum or Order &lt;chr&gt; | How the organism feeds &lt;chr&gt; | pack &lt;chr&gt; | count &lt;dbl&gt; |\n",
       "|---|---|---|---|---|---|---|---|---|---|---|\n",
       "| Rosie | 1610 | 0.2343445 | 10.632 | Stoneflies (Order Plecoptera) | Animalia | Arthropoda | Hexapoda | Mostly Predators | Pack 1 | 15 |\n",
       "| Rosie | 1610 | 0.2343445 | 10.632 | Stoneflies (Order Plecoptera) | Animalia | Arthropoda | Hexapoda | Mostly Predators | Pack 2 |  0 |\n",
       "| Rosie | 1610 | 0.2343445 | 10.632 | Stoneflies (Order Plecoptera) | Animalia | Arthropoda | Hexapoda | Mostly Predators | Pack 3 |  4 |\n",
       "| Rosie | 1610 | 0.2343445 | 10.632 | Stoneflies (Order Plecoptera) | Animalia | Arthropoda | Hexapoda | Mostly Predators | Pack 4 |  3 |\n",
       "| Rosie | 1610 | 0.2343445 | 10.632 | Stoneflies (Order Plecoptera) | Animalia | Arthropoda | Hexapoda | Mostly Predators | Pack 5 | NA |\n",
       "| Rosie | 1610 | 0.2343445 | 10.632 | Stoneflies (Order Plecoptera) | Animalia | Arthropoda | Hexapoda | Mostly Predators | Pack 6 |  2 |\n",
       "\n"
      ],
      "text/plain": [
       "  Group Elevation Mean flow rate (m/s) Mean temperature\n",
       "1 Rosie 1610      0.2343445            10.632          \n",
       "2 Rosie 1610      0.2343445            10.632          \n",
       "3 Rosie 1610      0.2343445            10.632          \n",
       "4 Rosie 1610      0.2343445            10.632          \n",
       "5 Rosie 1610      0.2343445            10.632          \n",
       "6 Rosie 1610      0.2343445            10.632          \n",
       "  Taxa                          Kingdom  Phylum     Subphylum or Order\n",
       "1 Stoneflies (Order Plecoptera) Animalia Arthropoda Hexapoda          \n",
       "2 Stoneflies (Order Plecoptera) Animalia Arthropoda Hexapoda          \n",
       "3 Stoneflies (Order Plecoptera) Animalia Arthropoda Hexapoda          \n",
       "4 Stoneflies (Order Plecoptera) Animalia Arthropoda Hexapoda          \n",
       "5 Stoneflies (Order Plecoptera) Animalia Arthropoda Hexapoda          \n",
       "6 Stoneflies (Order Plecoptera) Animalia Arthropoda Hexapoda          \n",
       "  How the organism feeds pack   count\n",
       "1 Mostly Predators       Pack 1 15   \n",
       "2 Mostly Predators       Pack 2  0   \n",
       "3 Mostly Predators       Pack 3  4   \n",
       "4 Mostly Predators       Pack 4  3   \n",
       "5 Mostly Predators       Pack 5 NA   \n",
       "6 Mostly Predators       Pack 6  2   "
      ]
     },
     "metadata": {},
     "output_type": "display_data"
    }
   ],
   "source": [
    "head(inverts)\n",
    "\n",
    "inverts_long <- pivot_longer(inverts, starts_with(\"Pack\"), names_to = \"pack\", values_to = \"count\")\n",
    "\n",
    "head(inverts_long)"
   ]
  },
  {
   "cell_type": "markdown",
   "id": "a15ed20b",
   "metadata": {},
   "source": [
    "The set of calculations below is a bit hairy, but it illustrates the power of data manipulation in R, we do some cleaning and compute statistics to plot on the fly."
   ]
  },
  {
   "cell_type": "code",
   "execution_count": 7,
   "id": "b333ccb9",
   "metadata": {},
   "outputs": [
    {
     "name": "stderr",
     "output_type": "stream",
     "text": [
      "`summarise()` has grouped output by 'Group'. You can override using the `.groups` argument.\n"
     ]
    }
   ],
   "source": [
    "# take `inverts_long` and assign the final result to `inverts_summary`\n",
    "inverts_summary <- inverts_long %>%  \n",
    "  # remove any counts with missing data\n",
    "  filter(!is.na(count)) %>% \n",
    "  # conduct measurements at the level of group and pack (our units of replication)\n",
    "  group_by(Group, pack) %>% \n",
    "  # variables to compute -- not we're using the newly defined functions\n",
    "  summarize(Elevation = first(Elevation), flow = first(`Mean flow rate (m/s)`), D = D(count), H = H(count), E = E(count) ) "
   ]
  },
  {
   "cell_type": "markdown",
   "id": "7f4a2db8",
   "metadata": {},
   "source": [
    "Take time to walk through the commands and make sure you understand what is going on in each line."
   ]
  }
 ],
 "metadata": {
  "jupytext": {
   "cell_metadata_filter": "-all",
   "formats": "md:myst",
   "text_representation": {
    "extension": ".md",
    "format_name": "myst"
   }
  },
  "kernelspec": {
   "display_name": "R",
   "language": "r",
   "name": "ir"
  },
  "language_info": {
   "codemirror_mode": "r",
   "file_extension": ".r",
   "mimetype": "text/x-r-source",
   "name": "R",
   "pygments_lexer": "r",
   "version": "4.0.3"
  },
  "source_map": [
   12,
   18,
   23,
   25,
   31,
   38,
   42,
   50,
   54,
   58,
   64,
   70,
   74,
   83
  ]
 },
 "nbformat": 4,
 "nbformat_minor": 5
}